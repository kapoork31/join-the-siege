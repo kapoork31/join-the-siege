{
 "cells": [
  {
   "cell_type": "code",
   "execution_count": 9,
   "id": "0c2923de-2382-415f-bd43-9235baae9bc7",
   "metadata": {},
   "outputs": [],
   "source": [
    "import requests"
   ]
  },
  {
   "cell_type": "code",
   "execution_count": 15,
   "id": "9ee89f7f-e895-4e30-8c0c-44a5cc8c9cd7",
   "metadata": {},
   "outputs": [],
   "source": [
    "base_url = \"http://127.0.0.1:8000/\"\n",
    "\n",
    "# or docker base_url\n",
    "#base_url = \"http://localhost:8080/\""
   ]
  },
  {
   "cell_type": "code",
   "execution_count": 16,
   "id": "a2a140c9-fc7a-45db-a1fc-c3f1e552ed3c",
   "metadata": {},
   "outputs": [
    {
     "name": "stdout",
     "output_type": "stream",
     "text": [
      "File uploaded successfully!\n",
      "{'filename': 'new_invoice9.txt', 's3_path': '123/new_invoice9.txt', 'file_id': 10}\n"
     ]
    }
   ],
   "source": [
    "# Set the URL of your FastAPI endpoint for docker\n",
    "url = base_url + 'upload_file/'\n",
    "\n",
    "#Uvicorn running on http://0.0.0.0:8080 (Press CTRL+C to quit)\n",
    "\n",
    "# Define the customer_id and the file to be uploaded\n",
    "customer_id = 123\n",
    "file_path = 'new_invoice9.txt'  # Update the file path accordingly\n",
    "\n",
    "# Open the file to send as multipart form-data\n",
    "with open(file_path, 'rb') as file:\n",
    "    # Send the POST request\n",
    "    response = requests.post(\n",
    "        url,\n",
    "        params={'customer_id': customer_id},\n",
    "        files={'file': (file_path, file, 'application/pdf')}  # File upload\n",
    "    )\n",
    "\n",
    "# Check the response\n",
    "if response.status_code == 200:\n",
    "    print('File uploaded successfully!')\n",
    "    print(response.json())  # Print the response from the API\n",
    "else:\n",
    "    print(f\"Error: {response.status_code}\")\n",
    "    print(response.text)\n"
   ]
  },
  {
   "cell_type": "code",
   "execution_count": 17,
   "id": "0e4d2b6f-ec72-496b-abff-ba0b6d9edb46",
   "metadata": {},
   "outputs": [
    {
     "name": "stdout",
     "output_type": "stream",
     "text": [
      "Success!\n",
      "{'message': 'Success', 'data': {'file_class': 'driver_license', 'filename': 'new_invoice9.txt', 'customer_id': 123}}\n"
     ]
    }
   ],
   "source": [
    "# Define the URL and the JSON payload (body of the POST request)\n",
    "url = base_url + 'classify_file'\n",
    "data = {\n",
    "    'filename': 'new_invoice9.txt',\n",
    "    'customer_id': 123\n",
    "}\n",
    "\n",
    "# Send the POST request with the JSON body\n",
    "response = requests.post(url, json=data)\n",
    "\n",
    "# Check the response\n",
    "if response.status_code == 200:\n",
    "    print(\"Success!\")\n",
    "    print(response.json())  # Prints the returned JSON response\n",
    "else:\n",
    "    print(f\"Error {response.status_code}: {response.text}\")\n"
   ]
  },
  {
   "cell_type": "code",
   "execution_count": 18,
   "id": "cdcd4c4f-c6be-407f-97b1-e6e4058952f6",
   "metadata": {},
   "outputs": [
    {
     "name": "stdout",
     "output_type": "stream",
     "text": [
      "Success!\n",
      "{'customerId': 123, 'id': 10, 'filename': 'new_invoice9.txt', 's3Path': '123/new_invoice9.txt', 'fileClassification': 'driver_license'}\n"
     ]
    }
   ],
   "source": [
    "# Define the URL and query parameters\n",
    "url = base_url + 'get_file'\n",
    "params = {\n",
    "    'filename': 'new_invoice9.txt',  # Replace with the actual filename you want to search for\n",
    "    'customer_id': 123            # Replace with the actual customer_id\n",
    "}\n",
    "\n",
    "# Send the GET request with query parameters\n",
    "response = requests.get(url, params=params)\n",
    "\n",
    "# Check the response\n",
    "if response.status_code == 200:\n",
    "    print(\"Success!\")\n",
    "    print(response.json())  # Prints the returned JSON response\n",
    "else:\n",
    "    print(f\"Error {response.status_code}: {response.text}\")\n"
   ]
  },
  {
   "cell_type": "code",
   "execution_count": null,
   "id": "7077ede0-6522-43c1-bab8-eda679a5724d",
   "metadata": {},
   "outputs": [],
   "source": []
  }
 ],
 "metadata": {
  "kernelspec": {
   "display_name": "Python 3 (ipykernel)",
   "language": "python",
   "name": "python3"
  },
  "language_info": {
   "codemirror_mode": {
    "name": "ipython",
    "version": 3
   },
   "file_extension": ".py",
   "mimetype": "text/x-python",
   "name": "python",
   "nbconvert_exporter": "python",
   "pygments_lexer": "ipython3",
   "version": "3.12.0"
  }
 },
 "nbformat": 4,
 "nbformat_minor": 5
}
